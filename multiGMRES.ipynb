{
 "cells": [
  {
   "cell_type": "markdown",
   "metadata": {},
   "source": [
    "# matrix problem to be solved\n",
    "\n",
    "The follow code loads a linear system for a laplacian."
   ]
  },
  {
   "cell_type": "code",
   "execution_count": null,
   "metadata": {
    "collapsed": false
   },
   "outputs": [],
   "source": [
    "\"\"\" this is a multi-basis vector version of GMRES\"\"\"\n",
    "\n",
    "import csv\n",
    "import scipy.sparse\n",
    "from numpy import diag, zeros, zeros_like, loadtxt, array, matrix, dot, identity, isclose, NAN, empty\n",
    "from numpy.linalg import inv, norm, det, solve\n",
    "\n",
    "print(\"Loading matrices...\")\n",
    "        \n",
    "rows = []\n",
    "cols = []\n",
    "vals = []\n",
    "        \n",
    "# AA = scipy.sparse.dok_matrix((100000, 100000))\n",
    "csvreader = csv.reader(open('AA.dat'), delimiter=' ', skipinitialspace=True)\n",
    "for line in csvreader:\n",
    "    row, column, val = line[:3]\n",
    "    rows.append(int( row ))\n",
    "    cols.append(int( column ))\n",
    "    vals.append(float( val ))\n",
    "    # AA[int(row), int(column)] = float(val)\n",
    "\n",
    "rows = array(rows)-1\n",
    "cols = array(cols)-1\n",
    "vals = array(vals)\n",
    "A = scipy.sparse.coo_matrix((vals,( rows, cols )))\n",
    "A = A.tocsr()\n",
    "\n",
    "b = loadtxt(open('bb.dat'))\n",
    "nn = len(b)\n",
    "\n",
    "b = matrix(b).transpose()\n",
    "\n",
    "print(\"Matrices loaded.\")\n",
    "print(\"A has dimensions: \",A.shape)\n",
    "print(\"b has dimensions: \",b.shape)\n",
    "#    print(A)\n",
    "#    print(b)"
   ]
  },
  {
   "cell_type": "markdown",
   "metadata": {},
   "source": [
    "# Multiple vector Generalized Minimum Residual Method\n",
    "\n",
    "Given an initial guess $x_0$, we want to solve the equation:\n",
    "$$ A x = b $$\n",
    "where\n",
    "$$x = x_0 + \\delta x$$\n",
    "and $\\delta x$ is \"small\". Substituting for x gives:\n",
    "$$A \\delta x = (b-A x_0) = \\rho$$\n",
    "where $\\rho$ is the residual.\n",
    "\n",
    "The initial guess $x_0$ is not critical, using zero is acceptable."
   ]
  },
  {
   "cell_type": "code",
   "execution_count": null,
   "metadata": {
    "collapsed": false
   },
   "outputs": [],
   "source": [
    "x0 = zeros((len(b),1))"
   ]
  },
  {
   "cell_type": "markdown",
   "metadata": {},
   "source": [
    "Similarly to using $x_0$ as an initial guess for $ x $, we also consider a preconditioner $M$ as an easy to compute linear operator that approximates $A^{-1}$.\n",
    "\n",
    "Left preconditioning:\n",
    "$$ M^{-1}Ax=M^{-1}b $$\n",
    "Doing left preconditioning solves for x directly, altering the residuals with the preconditioner.\n",
    "\n",
    "For this algorithm, we use right preconditioning:\n",
    "$$ Ax=A M M^{-1}x=A M y=b $$\n",
    "$$ y = M^{-1} x $$\n",
    "$$ x = M y $$\n",
    "\n",
    "We use the simplest option, the Jacobi (diagonal) preconditioner, which is simply the diagonal of A."
   ]
  },
  {
   "cell_type": "code",
   "execution_count": null,
   "metadata": {
    "collapsed": false
   },
   "outputs": [],
   "source": [
    "M = scipy.sparse.identity(len(b))\n",
    "inv_diag = 1./A.diagonal()\n",
    "M = scipy.sparse.spdiags(inv_diag, [0,], nn, nn)"
   ]
  },
  {
   "cell_type": "code",
   "execution_count": null,
   "metadata": {
    "collapsed": false
   },
   "outputs": [],
   "source": [
    "Minv = scipy.sparse.spdiags(A.diagonal(), [0,], nn, nn)\n",
    "should_be_ident = Minv*M\n",
    "should_be_ident.nnz"
   ]
  },
  {
   "cell_type": "code",
   "execution_count": null,
   "metadata": {
    "collapsed": false
   },
   "outputs": [],
   "source": [
    "ident = scipy.sparse.identity(A.shape[0])\n",
    "diff = should_be_ident-ident\n",
    "print(\"Check that Minv is the inverse of M: \",diff.max())"
   ]
  },
  {
   "cell_type": "markdown",
   "metadata": {},
   "source": [
    "The algorithm is as follows:\n",
    "For a given guess for $x$, we have the residual $\\rho = A x-b$.\n",
    "\n",
    "We now define a sequence of Krylov vectors\n",
    "$$ K_0 = \\rho $$\n",
    "$$ K_i = A M K_{i-1} $$\n",
    "for $ 1 \\leq i \\leq n $.\n",
    "\n",
    "We approximate $y$ as a linear combination of $k_{i}$\n",
    "\n",
    "$$ y = \\sum_{i=0}^{n-1} \\alpha_i K_i$$\n",
    "\n",
    "and find $\\alpha_i$ that minimize $\\lvert A x - b \\rvert = \\lvert A M y(\\alpha_i)-b \\rvert $.\n",
    "\n",
    "Since y is a power series of A,\n",
    "\n",
    "$$ A M y = A M ( \\sum_{i=0}^{n-1} \\alpha_i K_i ) = \\sum_{i=0}^{n-1} \\alpha_i A M K_i = \\sum_{i=0}^{n-1} \\alpha_{i} K_{i+1} $$\n",
    "\n",
    "$$ 0=\\frac{\\partial}{\\partial \\alpha_i} ((A M y-b) \\cdot (A M y-b)) = 2 (A M y-b) \\cdot \\frac{\\partial (A M y)}{\\partial \\alpha_i} = 2 (A M y-b) \\cdot K_{i+1}$$\n",
    "$$ ( \\sum_{j=0}^{n-1} \\alpha_{j} K_{j+1} ) \\cdot K_{i+1} = b \\cdot K_{i+1}$$\n",
    "$$ \\sum_{j=0}^{n-1} \\alpha_{j} (K_{i+1} \\cdot K_{j+1}) = b \\cdot K_{i+1}$$\n",
    "defining \n",
    "$$ N_{ij} = K_i \\cdot K_j $$\n",
    "Then $ \\alpha_i $ can be found by solving the n by n linear system:\n",
    "$$ \\sum_{j=0}^{n-1} N_{ij} \\alpha_j = b \\cdot K_{i+1} $$\n",
    "\n"
   ]
  },
  {
   "cell_type": "code",
   "execution_count": null,
   "metadata": {
    "collapsed": true
   },
   "outputs": [],
   "source": [
    "def krylov(A, b, x):\n",
    "    \"computes new iterated version of x from A and b\"\n",
    "\n",
    "    res = b - A*x\n",
    "\n",
    "    # construct first krylov vectors\n",
    "    k[0] = res\n",
    "    print(\"norm(k[\",0,\"] = \",norm(k[0],ord=2))\n",
    "    \n",
    "    # construct the other n-1 krylov vectors\n",
    "    for i in range(1, len(k)):\n",
    "        k[i] = A*(M*k[i-1])\n",
    "        print(\"norm(k[\",i,\"] = \",norm(k[i],ord=2))\n",
    "\n",
    "    r = empty(len(k))\n",
    "    r.fill(NAN)\n",
    "    N = empty((len(k), len(k)))\n",
    "    N.fill(NAN)\n",
    "    for i in range(len(k)):\n",
    "        r[i] = dot((A*k[i]).transpose(), res)\n",
    "        for j in range(1, len(k)+1):\n",
    "            N[i-1, j-1] = dot(k[i].transpose(), k[j-1])\n",
    "            \n",
    "    # print(\"r is \",r)\n",
    "    # print(\"N is \",N)\n",
    "\n",
    "    alpha = solve(N, r)\n",
    "\n",
    "    # err = N*alpha - r\n",
    "    # dalpha = solve(N, err)\n",
    "    # alpha -= dalpha\n",
    "    # err = N*alpha - r.transpose()\n",
    "\n",
    "    y = zeros_like(x)\n",
    "    for i in range(len(k)):\n",
    "        y += alpha[i]*k[i]\n",
    "    x += M*y\n"
   ]
  },
  {
   "cell_type": "code",
   "execution_count": null,
   "metadata": {
    "collapsed": false
   },
   "outputs": [],
   "source": [
    "N = 10\n",
    "print(\"Initializing list of \",N,\"Krylov vectors...\")\n",
    "\n",
    "k = []\n",
    "for _ in range(N):\n",
    "    kvec = array((len(b), 1))\n",
    "    kvec.fill(NAN)\n",
    "    k.append(kvec)"
   ]
  },
  {
   "cell_type": "code",
   "execution_count": null,
   "metadata": {
    "collapsed": false
   },
   "outputs": [],
   "source": [
    "x0 = zeros((len(b),1))\n",
    "x = x0\n",
    "print(x.max())\n",
    "bNorm = norm(b, ord=2)\n",
    "print(\"INITIALLY X IS \",norm(x,ord=2))\n",
    "print(\"INITIALLY b IS \",norm(b,ord=2))\n",
    "\n",
    "print(\"Initial Residual: \", norm(A*x - b, ord=2)/bNorm)\n",
    "    \n",
    "for _ in range(0, 5):\n",
    "    print(\"ITERATION \", _)\n",
    "    krylov(A, b, x)\n",
    "    norm_resid = norm(A*x-b)/bNorm\n",
    "    print(\"rho/originalresidual = \",norm(A*x-b, ord=2),\"/\",bNorm,\" = \",norm_resid)\n",
    "    if norm_resid < 0.001:\n",
    "        break"
   ]
  },
  {
   "cell_type": "code",
   "execution_count": null,
   "metadata": {
    "collapsed": true
   },
   "outputs": [],
   "source": []
  }
 ],
 "metadata": {
  "kernelspec": {
   "display_name": "Python 3",
   "language": "python",
   "name": "python3"
  },
  "language_info": {
   "codemirror_mode": {
    "name": "ipython",
    "version": 3
   },
   "file_extension": ".py",
   "mimetype": "text/x-python",
   "name": "python",
   "nbconvert_exporter": "python",
   "pygments_lexer": "ipython3",
   "version": "3.5.0"
  }
 },
 "nbformat": 4,
 "nbformat_minor": 0
}
